{
 "cells": [
  {
   "cell_type": "markdown",
   "id": "8f32d6cf-0144-434e-a71b-dbd2a49f4528",
   "metadata": {},
   "source": [
    "call method"
   ]
  },
  {
   "cell_type": "code",
   "execution_count": 1,
   "id": "0dc32862-26cc-4776-9d7e-67ddd1c86560",
   "metadata": {
    "tags": []
   },
   "outputs": [],
   "source": [
    "class Function:\n",
    "    def __call__(self, input):\n",
    "        x = input.data\n",
    "        y = self.forward(x) # 구체적인 계산은 forward 메서드에서 한다.\n",
    "        output = Variable(y)\n",
    "        return output"
   ]
  },
  {
   "cell_type": "code",
   "execution_count": 3,
   "id": "cd582414-9b42-44ab-98ec-36c45df2ec4a",
   "metadata": {
    "tags": []
   },
   "outputs": [],
   "source": [
    "def forward(self, x):\n",
    "    raise NotImplementedError() # 상속해서 구현해야 한다라는 사실을 알리기 위한 코드\n",
    "    "
   ]
  },
  {
   "cell_type": "code",
   "execution_count": 4,
   "id": "b14bf767-5d02-4b95-a07e-80d1983fc6a5",
   "metadata": {
    "tags": []
   },
   "outputs": [],
   "source": [
    "class Square(Function):\n",
    "    def forward(self, x):\n",
    "        return x ** 2"
   ]
  },
  {
   "cell_type": "markdown",
   "id": "a54d5ecf-57e7-4e79-8edb-28aa97987870",
   "metadata": {},
   "source": [
    "이거 ipynb로 하면 서로 참조 못해서 에러 나네 코드 그대로 따라하면 짜증나게\n",
    "py 파일은 지들끼리 잘 실행됨"
   ]
  },
  {
   "cell_type": "code",
   "execution_count": null,
   "id": "f7ef3799-cdd9-4f4f-aa88-1475ebe175b0",
   "metadata": {},
   "outputs": [],
   "source": []
  }
 ],
 "metadata": {
  "kernelspec": {
   "display_name": "TIL",
   "language": "python",
   "name": "til"
  },
  "language_info": {
   "codemirror_mode": {
    "name": "ipython",
    "version": 3
   },
   "file_extension": ".py",
   "mimetype": "text/x-python",
   "name": "python",
   "nbconvert_exporter": "python",
   "pygments_lexer": "ipython3",
   "version": "3.8.16"
  }
 },
 "nbformat": 4,
 "nbformat_minor": 5
}
